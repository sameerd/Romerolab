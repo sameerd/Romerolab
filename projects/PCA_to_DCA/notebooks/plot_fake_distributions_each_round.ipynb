{
 "cells": [
  {
   "cell_type": "code",
   "execution_count": 1,
   "metadata": {},
   "outputs": [],
   "source": [
    "import numpy as np\n",
    "\n",
    "%matplotlib inline\n",
    "import matplotlib.pyplot as plt"
   ]
  },
  {
   "cell_type": "code",
   "execution_count": 2,
   "metadata": {},
   "outputs": [],
   "source": [
    "AMINO_ACIDS = np.array([aa for aa in \"RKDEQNHSTCYWAILMFVPG\"], \"S1\")\n",
    "AA_LEN = AMINO_ACIDS.size\n",
    "AMINO_ACIDS_STR = AMINO_ACIDS.tostring().decode('UTF-8')"
   ]
  },
  {
   "cell_type": "code",
   "execution_count": 3,
   "metadata": {},
   "outputs": [],
   "source": [
    "dist_zero = np.zeros((AA_LEN, AA_LEN), dtype=np.float)\n",
    "dist_zero[5, 10] = 1.0"
   ]
  },
  {
   "cell_type": "code",
   "execution_count": 63,
   "metadata": {},
   "outputs": [
    {
     "data": {
      "image/png": "[encoded data removed]",
      "text/plain": [
       "<Figure size 864x216 with 6 Axes>"
      ]
     },
     "metadata": {
      "needs_background": "light"
     },
     "output_type": "display_data"
    }
   ],
   "source": [
    "fig, axs = plt.subplots(nrows=1, ncols=5, figsize=(12, 3))\n",
    "\n",
    "cmap = plt.cm.viridis_r\n",
    "cmap.set_under('w')\n",
    "default_cmap = cmap\n",
    "vmin = 0.05\n",
    "vmax = 1.0\n",
    "\n",
    "for i, ax in enumerate(axs):\n",
    "    if i == 0:\n",
    "        ax.set_xticks(np.arange(0, AA_LEN, 1));\n",
    "        ax.set_yticks(np.arange(0, AA_LEN, 1));\n",
    "        ax.set_xticklabels(AMINO_ACIDS_STR);\n",
    "        ax.set_yticklabels(AMINO_ACIDS_STR);\n",
    "        plt.setp(ax.xaxis.get_majorticklabels(), rotation=0, fontsize=\"x-small\")\n",
    "        plt.setp(ax.yaxis.get_majorticklabels(), rotation=90, fontsize=\"x-small\")\n",
    "    else:\n",
    "        ax.set_xticks([])\n",
    "        ax.set_yticks([])\n",
    "\n",
    "    # Minor ticks\n",
    "    ax.set_xticks(np.arange(-.5, AA_LEN, 1), minor=True);\n",
    "    ax.set_yticks(np.arange(-.5, AA_LEN, 1), minor=True);\n",
    "\n",
    "    # Gridlines based on minor ticks\n",
    "    ax.grid(which='minor', color='black', linestyle='-', linewidth=1, alpha=0.5)\n",
    "\n",
    "im = axs[0].imshow(dist_zero, cmap=default_cmap, vmin=vmin, vmax=vmax)\n",
    "axs[0].set_title(\"Initial State\")\n",
    "\n",
    "dist2 = dist_zero.copy()\n",
    "dist2[5, 10] = 0.90\n",
    "dist2[15, 2] = 0.06\n",
    "dist2[12, 18] = 0.03\n",
    "dist2[0, 5] = 0.01\n",
    "axs[1].imshow(dist2, cmap=default_cmap, vmin=vmin, vmax=vmax)\n",
    "axs[1].set_title(\"Round 6\")\n",
    "\n",
    "dist3 = dist_zero.copy()\n",
    "dist3[5, 10] = 0.80\n",
    "dist3[15, 2] = 0.11\n",
    "dist3[12, 18] = 0.06\n",
    "dist3[0, 5] = 0.02\n",
    "dist3[6,7] = 0.01\n",
    "axs[2].imshow(dist3, cmap=default_cmap, vmin=vmin, vmax=vmax)\n",
    "axs[2].set_title(\"Round 15\")\n",
    "\n",
    "axs[3].set_title(\"Many Rounds... \\n (no data plotted)\")\n",
    "axs[3].imshow(np.zeros_like(dist_zero), cmap=default_cmap, vmin=vmin, vmax=vmax)\n",
    "\n",
    "dist4 = dist_zero.copy()\n",
    "dist4[5, 10] = 0.35\n",
    "dist4[15, 2] = 0.30\n",
    "dist4[12, 18] = 0.15\n",
    "dist4[0, 5] = 0.07\n",
    "dist4[6,7] = 0.04\n",
    "dist4[15, 12] = 0.04\n",
    "axs[4].imshow(dist4, cmap=default_cmap, vmin=vmin, vmax=vmax)\n",
    "axs[4].set_title(\"Final Equilibrium\")\n",
    "\n",
    "# now put a color bar on the right\n",
    "fig = plt.gcf()\n",
    "fig.subplots_adjust(right=0.8)\n",
    "cbar_ax = fig.add_axes([0.85, 0.26, 0.01, 0.5])\n",
    "fig.colorbar(im, cax=cbar_ax, extend=\"min\")\n",
    "\n",
    "fig.suptitle(\"Frequency Distribution in Sites $i$ and $j$ after each round\")\n",
    "\n",
    "plt.savefig(\"assets/Neutral Evolution Distribution.png\", transparent=False, dpi=600)\n"
   ]
  }
 ],
 "metadata": {
  "kernelspec": {
   "display_name": "Python 3",
   "language": "python",
   "name": "python3"
  },
  "language_info": {
   "codemirror_mode": {
    "name": "ipython",
    "version": 3
   },
   "file_extension": ".py",
   "mimetype": "text/x-python",
   "name": "python",
   "nbconvert_exporter": "python",
   "pygments_lexer": "ipython3",
   "version": "3.6.8"
  }
 },
 "nbformat": 4,
 "nbformat_minor": 2
}
