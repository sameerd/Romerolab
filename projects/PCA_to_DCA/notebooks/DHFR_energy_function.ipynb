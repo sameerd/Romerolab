{
 "cells": [
  {
   "cell_type": "markdown",
   "metadata": {},
   "source": [
    "### Summary\n",
    "\n",
    "We would like to take an evolutionary MSA for DHFR and create an energy function following [2013Cocco](https://journals.plos.org/ploscompbiol/article?id=10.1371/journal.pcbi.1003176). Then we will use this energy function to score single and double mutants from the Homo sapiens version of DHFR. \n",
    "\n",
    "The probability model takes the form [Eqn (7) 2013Cocco](https://journals.plos.org/ploscompbiol/article?id=10.1371/journal.pcbi.1003176#pcbi.1003176.e059)\n",
    "$$ P(a_1, \\ldots, a_L) = \\frac{1}{Z} \\exp{ \\bigg\\{ \\frac{1}{2} \\sum_{i,j} e_{ij}(a_i, a_j) + \\sum_{i} h_i(a_i) \\bigg\\} }.$$\n",
    "This represents the probability of seeing a given sequence $(a_1, \\ldots, a_L)$ in the MSA. Using the mean field approximation we get values for the coupling matrix $e_{ij}(a_i,a_j)$ and the local fields $h_i(a_i)$. It is hard to calculate the normalization constant $Z$ as $L$ is large. However, since $Z$ is a constant for every sequence in this MSA we can ignore it and get a relative score for each sequence by estimating $-\\log (PZ)$. We define an energy function $\\mathcal{H}(a_1, \\ldots, a_L)$ as $$P(a_1, \\ldots, a_L) = \\exp{ \\big\\{ -\\mathcal{H}(a_1, \\ldots, a_L) \\big\\} }$$\n",
    " \n",
    "**Sections**\n",
    "1. [Import pre-computed data and generate covariance matrix](#gencovmat)\n",
    "2. [Generate probability model parameters](#probparams)\n",
    "3. [Calculate energy for human DHFR](#energycalc)\n",
    "4. [Mutants Energy Calculations](#mutants_energy)"
   ]
  },
  {
   "cell_type": "markdown",
   "metadata": {},
   "source": [
    "### Import pre-computed data and generate covariance matrix <a id=\"gencovmat\" />"
   ]
  },
  {
   "cell_type": "code",
   "execution_count": 1,
   "metadata": {},
   "outputs": [],
   "source": [
    "import os\n",
    "import numpy as np\n",
    "import scipy\n",
    "import scipy.linalg\n",
    "\n",
    "%matplotlib inline\n",
    "import matplotlib.pyplot as plt"
   ]
  },
  {
   "cell_type": "code",
   "execution_count": 2,
   "metadata": {},
   "outputs": [],
   "source": [
    "AMINO_ACIDS = np.array([aa for aa in \"RKDEQNHSTCYWAILMFVPG-\"], \"S1\")"
   ]
  },
  {
   "cell_type": "code",
   "execution_count": 3,
   "metadata": {},
   "outputs": [
    {
     "data": {
      "text/plain": [
       "'VRPLNCIVAVSQNMGIGKNGDLPWPPLRNEFKYFQRMTTTSSVEGKQNLVIMGRKTWFSIPEKNRPLKDRINIVLSRELKEPPRGAHFLAKSLDDALRLIEQPELASKVDMVWIVGGSSVYQEAMNQPGHLRLFVTRIMQEFESDTFFPEIDLGKYKLLPEYPGVLSEVQEEKGIKYKFEVYEKKD'"
      ]
     },
     "execution_count": 3,
     "metadata": {},
     "output_type": "execute_result"
    }
   ],
   "source": [
    "# read in the first line of the alignment (which has the WT version of DHFR)\n",
    "datadir = \"../data\"\n",
    "msa_file = os.path.join(datadir, \"DHFR.aln\")\n",
    "with open(msa_file) as fh:\n",
    "    wt_DHFR = np.array([[x for x in fh.readline().strip()] ], np.dtype(\"S1\"))\n",
    "\n",
    "wt_DHFR.tostring().decode('ascii')"
   ]
  },
  {
   "cell_type": "code",
   "execution_count": 4,
   "metadata": {},
   "outputs": [
    {
     "name": "stdout",
     "output_type": "stream",
     "text": [
      "Loading weights from :  ../data/DHFR.weights.npy\n",
      "Loading single site marginals from  ../data/DHFR.single.npy\n",
      "Loading double site marginals from  ../data/DHFR.double.npy\n"
     ]
    }
   ],
   "source": [
    "weights_file = os.path.join(datadir, \"DHFR.weights.npy\")\n",
    "\n",
    "print(\"Loading weights from : \", weights_file)\n",
    "weights = np.load(weights_file)\n",
    "\n",
    "single_site_marginal_file = os.path.join(datadir, \"DHFR.single.npy\")\n",
    "double_site_marginal_file = os.path.join(datadir, \"DHFR.double.npy\")\n",
    "\n",
    "print(\"Loading single site marginals from \", single_site_marginal_file)\n",
    "f_i_a = np.load(single_site_marginal_file)\n",
    "\n",
    "print(\"Loading double site marginals from \", double_site_marginal_file)    \n",
    "f_i_j_a_b = np.load(double_site_marginal_file)"
   ]
  },
  {
   "cell_type": "code",
   "execution_count": 5,
   "metadata": {},
   "outputs": [],
   "source": [
    "# Get the length of the sequence and the length of the alphabet from the imported matrices\n",
    "L, q = f_i_a.shape\n",
    "M_eff = sum(weights) # number of effected sequences"
   ]
  },
  {
   "cell_type": "code",
   "execution_count": 6,
   "metadata": {},
   "outputs": [],
   "source": [
    "# Add pseudo count\n",
    "pseudo_count_ratio = 0.5\n",
    "\n",
    "f_i_a = (pseudo_count_ratio / q ) + (1 - pseudo_count_ratio) * f_i_a / M_eff\n",
    "f_i_j_a_b = (pseudo_count_ratio  / (q*q) ) + (1 - pseudo_count_ratio) * f_i_j_a_b / M_eff\n",
    "\n",
    "# The formula for f_i_j_a_b is a little different when i==j\n",
    "# essentially we have f_i_a on the diagonal and zero's everywhere else. \n",
    "for i in range(L):\n",
    "    f_i_j_a_b[i, :, i, :] = np.diag(f_i_a[i, :])"
   ]
  },
  {
   "cell_type": "code",
   "execution_count": 7,
   "metadata": {},
   "outputs": [
    {
     "name": "stdout",
     "output_type": "stream",
     "text": [
      "C_i_j_a_b.shape = (186, 20, 186, 20)\n"
     ]
    }
   ],
   "source": [
    "# Covariance Matrix\n",
    "# We take an outer product of f_i_a with itself using numpy's broadcasting rules. \n",
    "# This gives us a matrix where the (i,a, j, b) index is f[i,a] * f[j,b]\n",
    "C_i_j_a_b = f_i_j_a_b  - f_i_a[:, :, np.newaxis, np.newaxis] * f_i_a[np.newaxis, np.newaxis, :, :] \n",
    "\n",
    "# we project the covariance matrix down the first q-1 elements\n",
    "# Since the frequencies add up to 1 we can discard amino-acid value (a = q) for each site\n",
    "# without losing any information\n",
    "C_i_j_a_b = C_i_j_a_b[:, :(q-1), :, :(q-1)]\n",
    "print(\"C_i_j_a_b.shape = {}\".format(C_i_j_a_b.shape)) "
   ]
  },
  {
   "cell_type": "markdown",
   "metadata": {},
   "source": [
    "### Generate probability model parameters <a id=\"probparams\" />\n",
    "\n",
    "From [Eqn (8) 2013Cocco](https://journals.plos.org/ploscompbiol/article?id=10.1371/journal.pcbi.1003176#pcbi.1003176.e071) we have \n",
    "$$e_{ij}(a,b) = -(C^{-1})_{ij}(a,b) \\qquad \\forall i,j, \\enspace \\forall a,b=1, \\ldots, q-1$$ and $$e_{ij}(a,q) = e_{ij}(q,a) = 0 \\qquad \\forall a = 1, \\ldots, q,$$ and $$ h_i(q) = 0.$$\n",
    "\n",
    "It is likely that the negative sign was omitted by accident in Eqn (8)."
   ]
  },
  {
   "cell_type": "code",
   "execution_count": 8,
   "metadata": {},
   "outputs": [],
   "source": [
    "cov = C_i_j_a_b.reshape((L*(q-1), L*(q-1)))\n",
    "invCov = np.linalg.inv(cov)\n",
    "e_i_j_a_b =  - invCov.reshape((L, q-1, L, q-1))"
   ]
  },
  {
   "cell_type": "markdown",
   "metadata": {},
   "source": [
    "Now that we have the coupling matrix $e_{ij}(a_i, a_j)$, we need to calculate the local fields $h_i(a_i)$. To do this we use [Eqn (S6) from the Supporting Information of 2013Cocco](https://doi.org/10.1371/journal.pcbi.1003176.s001). \n",
    "\n",
    "$$h_i(a) = \\log \\bigg( \\frac{f_i(a)}{f_i(q)} \\bigg) - \\frac{1}{L} \\sum_{\\mu j b} \\xi_i^\\mu(a) \\xi_j^\\mu (b) f_j(b)$$\n",
    "\n",
    "Here we are not distinguishing between positive and negative patterns to lighten the notations. From [Eqn 18 2013 Cocco](https://journals.plos.org/ploscompbiol/article?id=10.1371/journal.pcbi.1003176#pcbi.1003176.e144) we have $$ e_{ij}(a,b) = \\frac{1}{L} \\sum_\\mu \\xi_i^\\mu (a) \\xi_j^\\mu (b).$$ This gives us\n",
    "$$ \\sum_{jb} e_{ij}(a,b) f_j(b) = \\frac{1}{L} \\sum_{\\mu j b} \\xi_i^\\mu (a) \\xi_j^\\mu (b) f_j(b).$$ Substituting this back into Eqn (S6) we get an expression for the local fields in terms of the coupling matrix and the mariginal frequencies. \n",
    "$$ h_i(a) = \\log \\bigg( \\frac{f_i(a)}{f_i(q)} \\bigg) - \\sum_{jb} e_{ij}(a,b) f_j(b).$$ Here, $b$ runs from $1$ to $q-1$.\n"
   ]
  },
  {
   "cell_type": "code",
   "execution_count": 9,
   "metadata": {},
   "outputs": [
    {
     "data": {
      "text/plain": [
       "(186, 20)"
      ]
     },
     "execution_count": 9,
     "metadata": {},
     "output_type": "execute_result"
    }
   ],
   "source": [
    "h_i_a = np.log(f_i_a[:, :(q-1)] / f_i_a[:, q-1, np.newaxis]) - \\\n",
    "    (e_i_j_a_b * f_i_a[np.newaxis, np.newaxis, :, :(q-1)]).sum(axis=(2,3))\n",
    "\n",
    "h_i_a.shape"
   ]
  },
  {
   "cell_type": "markdown",
   "metadata": {},
   "source": [
    "### Calculate energy score for WildType DHFR  <a id=\"energycalc\" />"
   ]
  },
  {
   "cell_type": "code",
   "execution_count": 10,
   "metadata": {},
   "outputs": [],
   "source": [
    "import skbio"
   ]
  },
  {
   "cell_type": "code",
   "execution_count": 11,
   "metadata": {},
   "outputs": [],
   "source": [
    "# Taken from Mus musculus (house mouse) dihydrofolate reductase\n",
    "# https://www.ebi.ac.uk/ena/data/view/AAA37638\n",
    "# the start and stop codons were deleted\n",
    "wt_dna = 'GTTCGACCATTGAACTGCATCGTCGCCGTGTCCCAAAATATGGGGATTGGCAAGAACGGAGACCTACCCTGGCCTCCGCTCAGGAACGAGTTCAAGTACTTCCAAAGAATGACCACAACCTCTTCAGTGGAAGGTAAACAGAATCTGGTGATTATGGGTAGGAAAACCTGGTTCTCCATTCCTGAGAAGAATCGACCTTTAAAGGACAGAATTAATATAGTTCTCAGTAGAGAACTCAAAGAACCACCACGAGGAGCTCATTTTCTTGCCAAAAGTTTGGATGATGCCTTAAGACTTATTGAACAACCGGAATTGGCAAGTAAAGTAGACATGGTTTGGATAGTCGGAGGCAGTTCTGTTTACCAGGAAGCCATGAATCAACCAGGCCACCTTAGACTCTTTGTGACAAGGATCATGCAGGAATTTGAAAGTGACACGTTTTTCCCAGAAATTGATTTGGGGAAATATAAACTTCTCCCAGAATACCCAGGCGTCCTCTCTGAGGTCCAGGAGGAAAAAGGCATCAAGTATAAGTTTGAAGTCTACGAGAAGAAAGAC'"
   ]
  },
  {
   "cell_type": "code",
   "execution_count": 12,
   "metadata": {},
   "outputs": [
    {
     "data": {
      "text/plain": [
       "Protein\n",
       "---------------------------------------------------------------------\n",
       "Stats:\n",
       "    length: 186\n",
       "    has gaps: False\n",
       "    has degenerates: False\n",
       "    has definites: True\n",
       "    has stops: False\n",
       "---------------------------------------------------------------------\n",
       "0   VRPLNCIVAV SQNMGIGKNG DLPWPPLRNE FKYFQRMTTT SSVEGKQNLV IMGRKTWFSI\n",
       "60  PEKNRPLKDR INIVLSRELK EPPRGAHFLA KSLDDALRLI EQPELASKVD MVWIVGGSSV\n",
       "120 YQEAMNQPGH LRLFVTRIMQ EFESDTFFPE IDLGKYKLLP EYPGVLSEVQ EEKGIKYKFE\n",
       "180 VYEKKD"
      ]
     },
     "execution_count": 12,
     "metadata": {},
     "output_type": "execute_result"
    }
   ],
   "source": [
    "wt_dna_translation = skbio.DNA(wt_dna).translate()\n",
    "wt_dna_translation"
   ]
  },
  {
   "cell_type": "code",
   "execution_count": 13,
   "metadata": {},
   "outputs": [
    {
     "data": {
      "text/plain": [
       "True"
      ]
     },
     "execution_count": 13,
     "metadata": {},
     "output_type": "execute_result"
    }
   ],
   "source": [
    "# Make sure that the translated protein matches wildtype\n",
    "np.all(wt_dna_translation.values == wt_DHFR)"
   ]
  },
  {
   "cell_type": "code",
   "execution_count": 14,
   "metadata": {},
   "outputs": [],
   "source": [
    "class EnergyFunctionCalculator:\n",
    "    \n",
    "    def __init__(self, \n",
    "                 h_i_a, # local fields\n",
    "                 e_i_j_a_b, # pairwise couplings\n",
    "                 alphabet_order = AMINO_ACIDS):\n",
    "        \"\"\"Set the local fields and pairwise couplings\"\"\"\n",
    "        self.h_i_a = h_i_a\n",
    "        self.e_i_j_a_b = e_i_j_a_b\n",
    "        self.alphabet_order = alphabet_order\n",
    "        self.N = h_i_a.shape[0] # length of the protein\n",
    "        # seq_runner is just a sequential array from 0 to the length of the protein\n",
    "        # if it used as an index in the calculations. \n",
    "        self.seq_runner = np.array(range(self.N), np.int)\n",
    "    \n",
    "    def __call__(self, protein):\n",
    "        \"\"\"Take an protein sequence and calculate the energy function from the evolutionary MSA\"\"\"\n",
    "        if protein.has_gaps():\n",
    "            raise ValueError(\"Protein Sequence has gaps in it\")\n",
    "        if protein.has_stops():\n",
    "            raise ValueError(\"Protein Sequence has stops in it\")\n",
    "        N = protein.values.size\n",
    "        if N != self.N:\n",
    "            raise ValueError(\"Protein Sequence length {} and Energy Calculator length {} do not match\".format(N, self.N))\n",
    "        idx = np.zeros(protein.values.size, dtype=np.uint16)\n",
    "        for i, a in enumerate(self.alphabet_order):\n",
    "            idx[protein.values == a] = i\n",
    "        idx = idx.squeeze()\n",
    "        # meshgrid creates a \"tuple\" product of the indices by repeating the index\n",
    "        # along the x axis in xv and repeating it along the yaxis in yv\n",
    "        xv, yv = np.meshgrid(idx, idx)\n",
    "        energy = -np.sum(self.e_i_j_a_b[self.seq_runner, xv, self.seq_runner, yv ]) / 2. - \\\n",
    "            np.sum(self.h_i_a[self.seq_runner, idx])\n",
    "        return(energy)"
   ]
  },
  {
   "cell_type": "code",
   "execution_count": 15,
   "metadata": {},
   "outputs": [
    {
     "data": {
      "text/plain": [
       "588711.3156041729"
      ]
     },
     "execution_count": 15,
     "metadata": {},
     "output_type": "execute_result"
    }
   ],
   "source": [
    "protein = wt_dna_translation\n",
    "energy_calc = EnergyFunctionCalculator(h_i_a, e_i_j_a_b, AMINO_ACIDS)\n",
    "energy_calc(protein)"
   ]
  },
  {
   "cell_type": "markdown",
   "metadata": {},
   "source": [
    "###  Mutants Energy Calculations <a id=\"mutants_energy\" />"
   ]
  },
  {
   "cell_type": "code",
   "execution_count": 16,
   "metadata": {},
   "outputs": [],
   "source": [
    "class Mutant:\n",
    "    \"\"\" This class stores the mutations from wildtype \"\"\"\n",
    "    wt = None # DNA or RNA or Protein sequence of wildtype \n",
    "    aa_chars = None # amino acid characters\n",
    "    \n",
    "    def __init__(self, idx = np.array([], dtype=np.uint16), \n",
    "                       values = np.array([], dtype='|S1')):\n",
    "        self.idx = idx\n",
    "        self.values = values\n",
    "        if self.idx.size != self.values.size:\n",
    "            raise ValueError('mutant index and values array have different sizes')\n",
    "    \n",
    "    def apply_mutations(self):\n",
    "        \"\"\" Apply the mutations for this mutant to wild-type and \n",
    "            return the new sequence of the same biological type as WT\"\"\"\n",
    "        mutant_seq = Mutant.wt.values.copy()\n",
    "        mutant_seq[self.idx] = self.values\n",
    "        return(type(Mutant.wt)(mutant_seq))\n",
    "\n",
    "Mutant.wt = skbio.DNA(wt_dna)\n",
    "Mutant.aa_chars = AMINO_ACIDS"
   ]
  },
  {
   "cell_type": "code",
   "execution_count": 17,
   "metadata": {},
   "outputs": [],
   "source": [
    "x = Mutant(np.array([10,20,30], dtype=np.uint16), np.array(['G', 'A', 'T'], dtype='S1'))"
   ]
  },
  {
   "cell_type": "code",
   "execution_count": 18,
   "metadata": {},
   "outputs": [
    {
     "data": {
      "text/plain": [
       "Protein\n",
       "---------------------------------------------------------------------\n",
       "Stats:\n",
       "    length: 186\n",
       "    has gaps: False\n",
       "    has degenerates: False\n",
       "    has definites: True\n",
       "    has stops: False\n",
       "---------------------------------------------------------------------\n",
       "0   VRPWNCIVAV SQNMGIGKNG DLPWPPLRNE FKYFQRMTTT SSVEGKQNLV IMGRKTWFSI\n",
       "60  PEKNRPLKDR INIVLSRELK EPPRGAHFLA KSLDDALRLI EQPELASKVD MVWIVGGSSV\n",
       "120 YQEAMNQPGH LRLFVTRIMQ EFESDTFFPE IDLGKYKLLP EYPGVLSEVQ EEKGIKYKFE\n",
       "180 VYEKKD"
      ]
     },
     "execution_count": 18,
     "metadata": {},
     "output_type": "execute_result"
    }
   ],
   "source": [
    "x.apply_mutations().translate()"
   ]
  },
  {
   "cell_type": "code",
   "execution_count": 19,
   "metadata": {},
   "outputs": [
    {
     "data": {
      "text/plain": [
       "588994.3534789148"
      ]
     },
     "execution_count": 19,
     "metadata": {},
     "output_type": "execute_result"
    }
   ],
   "source": [
    "energy_calc(x.apply_mutations().translate())"
   ]
  }
 ],
 "metadata": {
  "kernelspec": {
   "display_name": "Python 3",
   "language": "python",
   "name": "python3"
  },
  "language_info": {
   "codemirror_mode": {
    "name": "ipython",
    "version": 3
   },
   "file_extension": ".py",
   "mimetype": "text/x-python",
   "name": "python",
   "nbconvert_exporter": "python",
   "pygments_lexer": "ipython3",
   "version": "3.6.8"
  }
 },
 "nbformat": 4,
 "nbformat_minor": 2
}
