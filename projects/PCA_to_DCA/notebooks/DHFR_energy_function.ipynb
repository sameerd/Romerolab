{
 "cells": [
  {
   "cell_type": "markdown",
   "metadata": {},
   "source": [
    "### Summary\n",
    "\n",
    "We would like to take an evolutionary MSA for DHFR and create an energy function following [2013Cocco](https://journals.plos.org/ploscompbiol/article?id=10.1371/journal.pcbi.1003176). Then we will use this energy function to score single and double mutants from the Homo sapiens version of DHFR. \n",
    "\n",
    "The energy function takes the form of a probability model [Eqn (7) 2013Cocco](https://journals.plos.org/ploscompbiol/article?id=10.1371/journal.pcbi.1003176#pcbi.1003176.e059)\n",
    "$$ P(a_1, \\ldots, a_L) = \\frac{1}{Z} \\exp{ \\bigg\\{ \\frac{1}{2} \\sum_{i,j} e_{ij}(a_i, a_j) + \\sum_{i} h_i(a_i) \\bigg\\} },$$\n",
    " which we estimate from the MSA. The probability represents the probability of seeing a given sequence $(a_1, \\ldots, a_L)$ in the MSA. Using the mean field approximation we get values for the coupling matrix $e_{ij}(a_i,a_j)$ and the local fields $h_i(a_i)$. It is hard to calculate the normalization constant $Z$ as $L$ is large. However, since $Z$ is a constant for every sequence in this MSA we can ignore it and get a relative score for each sequence by estimating $\\log (PZ)$.\n",
    " \n",
    "**Sections**\n",
    "1. [Import pre-computed data and generate covariance matrix](#gencovmat)\n",
    "2. [Generate probability model parameters](#probparams)\n",
    "3. [Calculate relative score for human DHFR](#relativescore)\n",
    "4. [Create Mutants Energy file](#createmutantsenergy)"
   ]
  },
  {
   "cell_type": "markdown",
   "metadata": {},
   "source": [
    "### Import pre-computed data and generate covariance matrix <a id=\"gencovmat\" />"
   ]
  },
  {
   "cell_type": "code",
   "execution_count": 1,
   "metadata": {},
   "outputs": [],
   "source": [
    "import os\n",
    "import numpy as np\n",
    "import scipy\n",
    "import scipy.linalg\n",
    "\n",
    "%matplotlib inline\n",
    "import matplotlib.pyplot as plt"
   ]
  },
  {
   "cell_type": "code",
   "execution_count": 2,
   "metadata": {},
   "outputs": [],
   "source": [
    "AMINO_ACIDS = np.array([aa for aa in \"RKDEQNHSTCYWAILMFVPG-\"], \"S1\")"
   ]
  },
  {
   "cell_type": "code",
   "execution_count": 3,
   "metadata": {},
   "outputs": [
    {
     "data": {
      "text/plain": [
       "'VRPLNCIVAVSQNMGIGKNGDLPWPPLRNEFKYFQRMTTTSSVEGKQNLVIMGRKTWFSIPEKNRPLKDRINIVLSRELKEPPRGAHFLAKSLDDALRLIEQPELASKVDMVWIVGGSSVYQEAMNQPGHLRLFVTRIMQEFESDTFFPEIDLGKYKLLPEYPGVLSEVQEEKGIKYKFEVYEKKD'"
      ]
     },
     "execution_count": 3,
     "metadata": {},
     "output_type": "execute_result"
    }
   ],
   "source": [
    "# read in the first line of the alignment (which has the human version of DHFR)\n",
    "datadir = \"../data\"\n",
    "msa_file = os.path.join(datadir, \"DHFR.aln\")\n",
    "with open(msa_file) as fh:\n",
    "    human_DHFR = np.array([[x for x in fh.readline().strip()] ], np.dtype(\"S1\"))\n",
    "\n",
    "human_DHFR.tostring().decode('ascii')"
   ]
  },
  {
   "cell_type": "code",
   "execution_count": 4,
   "metadata": {},
   "outputs": [
    {
     "name": "stdout",
     "output_type": "stream",
     "text": [
      "Loading weights from :  ../data/DHFR.weights.npy\n",
      "Loading single site marginals from  ../data/DHFR.single.npy\n",
      "Loading double site marginals from  ../data/DHFR.double.npy\n"
     ]
    }
   ],
   "source": [
    "\n",
    "weights_file = os.path.join(datadir, \"DHFR.weights.npy\")\n",
    "\n",
    "print(\"Loading weights from : \", weights_file)\n",
    "weights = np.load(weights_file)\n",
    "\n",
    "single_site_marginal_file = os.path.join(datadir, \"DHFR.single.npy\")\n",
    "double_site_marginal_file = os.path.join(datadir, \"DHFR.double.npy\")\n",
    "\n",
    "print(\"Loading single site marginals from \", single_site_marginal_file)\n",
    "f_i_a = np.load(single_site_marginal_file)\n",
    "\n",
    "print(\"Loading double site marginals from \", double_site_marginal_file)    \n",
    "f_i_j_a_b = np.load(double_site_marginal_file)"
   ]
  },
  {
   "cell_type": "code",
   "execution_count": 5,
   "metadata": {},
   "outputs": [],
   "source": [
    "# Get the length of the sequence and the length of the alphabet from the imported matrices\n",
    "L, q = f_i_a.shape\n",
    "M_eff = sum(weights) # number of effected sequences"
   ]
  },
  {
   "cell_type": "code",
   "execution_count": 6,
   "metadata": {},
   "outputs": [],
   "source": [
    "# Add pseudo count\n",
    "pseudo_count_ratio = 0.5\n",
    "\n",
    "f_i_a = (pseudo_count_ratio / q ) + (1 - pseudo_count_ratio) * f_i_a / M_eff\n",
    "f_i_j_a_b = (pseudo_count_ratio  / (q*q) ) + (1 - pseudo_count_ratio) * f_i_j_a_b / M_eff\n",
    "\n",
    "# The formula for f_i_j_a_b is a little different when i==j\n",
    "# essentially we have f_i_a on the diagonal and zero's everywhere else. \n",
    "for i in range(L):\n",
    "    f_i_j_a_b[i, :, i, :] = np.diag(f_i_a[i, :])"
   ]
  },
  {
   "cell_type": "code",
   "execution_count": 7,
   "metadata": {},
   "outputs": [
    {
     "name": "stdout",
     "output_type": "stream",
     "text": [
      "C_i_j_a_b.shape = (186, 20, 186, 20)\n"
     ]
    }
   ],
   "source": [
    "# Covariance Matrix\n",
    "# We take an outer product of f_i_a with itself using numpy's broadcasting rules. \n",
    "# This gives us a matrix where the (i,a, j, b) index is f[i,a] * f[j,b]\n",
    "C_i_j_a_b = f_i_j_a_b  - f_i_a[:, :, np.newaxis, np.newaxis] * f_i_a[np.newaxis, np.newaxis, :, :] \n",
    "\n",
    "# we project the covariance matrix down the first q-1 elements\n",
    "# Since the frequencies add up to 1 we can discard amino-acid value (a = q) for each site\n",
    "# without losing any information\n",
    "C_i_j_a_b = C_i_j_a_b[:, :(q-1), :, :(q-1)]\n",
    "print(\"C_i_j_a_b.shape = {}\".format(C_i_j_a_b.shape)) "
   ]
  },
  {
   "cell_type": "markdown",
   "metadata": {},
   "source": [
    "### Generate probability model parameters <a id=\"probparams\" />\n",
    "\n",
    "From [Eqn (8) 2013Cocco](https://journals.plos.org/ploscompbiol/article?id=10.1371/journal.pcbi.1003176#pcbi.1003176.e071) we have \n",
    "$$e_{ij}(a,b) = (C^{-1})_{ij}(a,b) \\qquad \\forall i,j, \\enspace \\forall a,b=1, \\ldots, q-1$$ and $$e_{ij}(a,q) = e_{ij}(q,a) = 0 \\qquad \\forall a = 1, \\ldots, q,$$ and $$ h_i(q) = 0.$$"
   ]
  },
  {
   "cell_type": "code",
   "execution_count": 8,
   "metadata": {},
   "outputs": [],
   "source": [
    "cov = C_i_j_a_b.reshape((L*(q-1), L*(q-1)))\n",
    "invCov = np.linalg.inv(cov)\n",
    "e_i_j_a_b =  - invCov.reshape((L, q-1, L, q-1))"
   ]
  },
  {
   "cell_type": "markdown",
   "metadata": {},
   "source": [
    "Now that we have the coupling matrix $e_{ij}(a_i, a_j)$, we need to calculate the local fields $h_i(a_i)$. To do this we use [Eqn (S6) from the Supporting Information of 2013Cocco](https://doi.org/10.1371/journal.pcbi.1003176.s001). \n",
    "\n",
    "$$h_i(a) = \\log \\bigg( \\frac{f_i(a)}{f_i(q)} \\bigg) - \\frac{1}{L} \\sum_{\\mu j b} \\xi_i^\\mu(a) \\xi_j^\\mu (b) f_j(b)$$\n",
    "\n",
    "Here we are not distinguishing between positive and negative patterns to lighten the notations. From [Eqn 18 2013 Cocco](https://journals.plos.org/ploscompbiol/article?id=10.1371/journal.pcbi.1003176#pcbi.1003176.e144) we have $$ e_{ij}(a,b) = \\frac{1}{L} \\sum_\\mu \\xi_i^\\mu (a) \\xi_j^\\mu (b).$$ This gives us\n",
    "$$ \\sum_{jb} e_{ij}(a,b) f_j(b) = \\frac{1}{L} \\sum_{\\mu j b} \\xi_i^\\mu (a) \\xi_j^\\mu (b) f_j(b).$$ Substituting this back into Eqn (S6) we get an expression for the local fields in terms of the coupling matrix and the mariginal frequencies. \n",
    "$$ h_i(a) = \\log \\bigg( \\frac{f_i(a)}{f_i(q)} \\bigg) - \\sum_{jb} e_{ij}(a,b) f_j(b).$$ Here, $b$ runs from $1$ to $q-1$.\n"
   ]
  },
  {
   "cell_type": "code",
   "execution_count": 9,
   "metadata": {},
   "outputs": [
    {
     "data": {
      "text/plain": [
       "(186, 20)"
      ]
     },
     "execution_count": 9,
     "metadata": {},
     "output_type": "execute_result"
    }
   ],
   "source": [
    "h_i_a = np.log(f_i_a[:, :(q-1)] / f_i_a[:, q-1, np.newaxis]) - \\\n",
    "    (e_i_j_a_b * f_i_a[np.newaxis, np.newaxis, :, :(q-1)]).sum(axis=(2,3))\n",
    "\n",
    "h_i_a.shape"
   ]
  },
  {
   "cell_type": "markdown",
   "metadata": {},
   "source": [
    "### Calculate relative score for human DHFR  <a id=\"relativescore\" />"
   ]
  },
  {
   "cell_type": "code",
   "execution_count": 10,
   "metadata": {},
   "outputs": [
    {
     "data": {
      "text/plain": [
       "array([17,  0, 18, 14,  5,  9, 13, 17, 12, 17])"
      ]
     },
     "execution_count": 10,
     "metadata": {},
     "output_type": "execute_result"
    }
   ],
   "source": [
    "human_DHFR_idx = np.zeros(human_DHFR.shape, dtype=np.int)\n",
    "for i, a in enumerate(AMINO_ACIDS):\n",
    "    human_DHFR_idx[human_DHFR == a] = i\n",
    "human_DHFR_idx = human_DHFR_idx.squeeze()\n",
    "    \n",
    "if human_DHFR.tostring().decode('ascii').find(\"-\") >= 0 :\n",
    "    raise ValueError(\"We should not have gaps in this protein\")\n",
    "\n",
    "# the array below tells us the index of the amino acid in each position\n",
    "human_DHFR_idx[:10]"
   ]
  },
  {
   "cell_type": "code",
   "execution_count": 11,
   "metadata": {},
   "outputs": [],
   "source": [
    "# seq_runner is just an array from 0 to the length of the alignment that we can use to index\n",
    "seq_runner = np.array(range(L), np.int)\n",
    "def calculate_energy_function(idx):\n",
    "    \"\"\" idx is a 1-D numpy array of length equal to L and \n",
    "        each value is the index of amino acid i in the AMINO_ACIDS array.\n",
    "        This function uses seq_runner, e_i_j_a_b and h_i_a arrays. \n",
    "    \"\"\"\n",
    "    # meshgrid creates a \"tuple\" product of the indices by repeating the index\n",
    "    # along the x axis in xv and repeating it along the yaxis in yv\n",
    "    xv, yv = np.meshgrid(idx, idx)\n",
    "    energy = np.sum(e_i_j_a_b[seq_runner, xv, seq_runner, yv ]) / 2. + \\\n",
    "        h_i_a[seq_runner, idx].sum()\n",
    "    return(energy)"
   ]
  },
  {
   "cell_type": "code",
   "execution_count": 12,
   "metadata": {},
   "outputs": [
    {
     "data": {
      "text/plain": [
       "-588711.3156041729"
      ]
     },
     "execution_count": 12,
     "metadata": {},
     "output_type": "execute_result"
    }
   ],
   "source": [
    "human_DHFR_energy = calculate_energy_function(human_DHFR_idx)\n",
    "human_DHFR_energy"
   ]
  },
  {
   "cell_type": "markdown",
   "metadata": {},
   "source": [
    "### Create Mutants Energy file <a id=\"createmutantsenergy\" />\n",
    "\n",
    "*We can speed this up by only calculating the energy difference between mutant sequences and WT*"
   ]
  },
  {
   "cell_type": "code",
   "execution_count": 13,
   "metadata": {},
   "outputs": [],
   "source": [
    "output_dir = os.path.join(datadir, \"output\", \"mutagenesis\")\n",
    "!mkdir -p $output_dir"
   ]
  },
  {
   "cell_type": "code",
   "execution_count": 14,
   "metadata": {},
   "outputs": [
    {
     "data": {
      "text/plain": [
       "'../data/output/mutagenesis/single_mutants.tsv'"
      ]
     },
     "execution_count": 14,
     "metadata": {},
     "output_type": "execute_result"
    }
   ],
   "source": [
    "# single mutants\n",
    "single_mutant_energy_filename = os.path.join(output_dir, \"single_mutants.tsv\")\n",
    "single_mutant_energy_filename"
   ]
  },
  {
   "cell_type": "code",
   "execution_count": 15,
   "metadata": {},
   "outputs": [],
   "source": [
    "with open(single_mutant_energy_filename, \"w\") as fh:\n",
    "    AA_ascii = AMINO_ACIDS.tostring().decode('ascii')\n",
    "    for i in seq_runner:\n",
    "        aa_idx = human_DHFR_idx[i]\n",
    "        aa = AA_ascii[aa_idx]\n",
    "        for mut_idx in range(1, (q-1)): # do not switch to the gap symbol\n",
    "            if (mut_idx != aa_idx): # do not switch to mutant to the same symbol as WT\n",
    "                mut = AA_ascii[mut_idx]\n",
    "                mut_DHFR_idx = human_DHFR_idx.copy()\n",
    "                mut_DHFR_idx[i] = mut_idx\n",
    "                energy = calculate_energy_function(mut_DHFR_idx)\n",
    "                print(\"{0:}{1:}{2:}\\t{3:}\".format(aa, i + 1, mut, energy), file=fh)"
   ]
  },
  {
   "cell_type": "code",
   "execution_count": 16,
   "metadata": {},
   "outputs": [
    {
     "name": "stdout",
     "output_type": "stream",
     "text": [
      "V1K\t-588798.0856454724\r\n",
      "V1D\t-588517.8028304778\r\n",
      "V1E\t-588795.4418900218\r\n",
      "V1Q\t-588542.1029375127\r\n",
      "V1N\t-588530.3745272686\r\n",
      "V1H\t-588341.319892712\r\n",
      "V1S\t-588652.157661544\r\n",
      "V1T\t-588476.5636452194\r\n",
      "V1C\t-588293.1471080026\r\n",
      "V1Y\t-588463.4439595203\r\n"
     ]
    }
   ],
   "source": [
    "# inspect and compress the file\n",
    "!head $single_mutant_energy_filename\n",
    "!gzip -f $single_mutant_energy_filename"
   ]
  },
  {
   "cell_type": "code",
   "execution_count": 17,
   "metadata": {},
   "outputs": [
    {
     "data": {
      "text/plain": [
       "'../data/output/mutagenesis/double_mutants.tsv'"
      ]
     },
     "execution_count": 17,
     "metadata": {},
     "output_type": "execute_result"
    }
   ],
   "source": [
    "# double mutants\n",
    "double_mutant_energy_filename = os.path.join(output_dir, \"double_mutants.tsv\")\n",
    "double_mutant_energy_filename"
   ]
  },
  {
   "cell_type": "code",
   "execution_count": 18,
   "metadata": {},
   "outputs": [],
   "source": [
    "progress_bar = True\n",
    "try:\n",
    "    from IPython.display import clear_output\n",
    "except ImportError:\n",
    "     progress_bar = False"
   ]
  },
  {
   "cell_type": "code",
   "execution_count": 23,
   "metadata": {},
   "outputs": [
    {
     "name": "stdout",
     "output_type": "stream",
     "text": [
      "Processing site i= 185 ,j= 186  of  186\n"
     ]
    }
   ],
   "source": [
    "with open(double_mutant_energy_filename, \"w\") as fh:\n",
    "    AA_ascii = AMINO_ACIDS.tostring().decode('ascii')\n",
    "    for i in seq_runner:\n",
    "        aa1_idx = human_DHFR_idx[i]\n",
    "        aa1 = AA_ascii[aa1_idx]\n",
    "        for j in seq_runner:\n",
    "            if (i < j): #if i = j then we are creating single mutants\n",
    "                if progress_bar:\n",
    "                    clear_output(wait=True)\n",
    "                print (\"Processing site i=\", i+1, \",j=\", j+1 , \" of \", L)\n",
    "                aa2_idx = human_DHFR_idx[j]\n",
    "                aa2 = AA_ascii[aa2_idx]\n",
    "                for mut1_idx in range(1, (q-1)): # do not switch to the gap symbol\n",
    "                    mut1 = AA_ascii[mut1_idx]\n",
    "                    for mut2_idx in range(1, (q-1)):\n",
    "                        if mut1_idx != mut2_idx:\n",
    "                            mut2 = AA_ascii[mut2_idx]\n",
    "                            mut_DHFR_idx = human_DHFR_idx.copy()\n",
    "                            mut_DHFR_idx[i] = mut1_idx\n",
    "                            mut_DHFR_idx[j] = mut2_idx\n",
    "                            energy = calculate_energy_function(mut_DHFR_idx)\n",
    "                            print(\"{}{}{},{}{}{}\\t{}\".format(aa1, i+1, mut1, aa2, j+1, mut2, energy), file=fh)"
   ]
  },
  {
   "cell_type": "code",
   "execution_count": 22,
   "metadata": {},
   "outputs": [
    {
     "name": "stdout",
     "output_type": "stream",
     "text": [
      "V1K,R2D\t-588743.1948797524\r\n",
      "V1K,R2E\t-589020.8339392963\r\n",
      "V1K,R2Q\t-588767.4949867873\r\n",
      "V1K,R2N\t-588755.7665765432\r\n",
      "V1K,R2H\t-588566.7119419866\r\n",
      "V1K,R2S\t-588877.5497108187\r\n",
      "V1K,R2T\t-588701.955694494\r\n",
      "V1K,R2C\t-588518.5391572772\r\n",
      "V1K,R2Y\t-588688.836008795\r\n",
      "V1K,R2W\t-588566.9674016556\r\n"
     ]
    }
   ],
   "source": [
    "# inspect and compress the file\n",
    "!head $double_mutant_energy_filename\n",
    "!gzip -f $double_mutant_energy_filename"
   ]
  }
 ],
 "metadata": {
  "kernelspec": {
   "display_name": "Python 3",
   "language": "python",
   "name": "python3"
  },
  "language_info": {
   "codemirror_mode": {
    "name": "ipython",
    "version": 3
   },
   "file_extension": ".py",
   "mimetype": "text/x-python",
   "name": "python",
   "nbconvert_exporter": "python",
   "pygments_lexer": "ipython3",
   "version": "3.6.8"
  }
 },
 "nbformat": 4,
 "nbformat_minor": 2
}
